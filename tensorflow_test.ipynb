{
  "nbformat": 4,
  "nbformat_minor": 0,
  "metadata": {
    "colab": {
      "provenance": [],
      "mount_file_id": "1NXbvDS-MnhbXJ2dnLCcDs33CYatvQPBZ",
      "authorship_tag": "ABX9TyOOpdK6ma6/53RnVsCtnYQc",
      "include_colab_link": true
    },
    "kernelspec": {
      "name": "python3",
      "display_name": "Python 3"
    },
    "language_info": {
      "name": "python"
    }
  },
  "cells": [
    {
      "cell_type": "markdown",
      "metadata": {
        "id": "view-in-github",
        "colab_type": "text"
      },
      "source": [
        "<a href=\"https://colab.research.google.com/github/Giustiziero/bell-pepper/blob/initial-testing/tensorflow_test.ipynb\" target=\"_parent\"><img src=\"https://colab.research.google.com/assets/colab-badge.svg\" alt=\"Open In Colab\"/></a>"
      ]
    },
    {
      "cell_type": "code",
      "execution_count": 49,
      "metadata": {
        "id": "M5oPbguWt0YM"
      },
      "outputs": [],
      "source": [
        "import tensorflow as tf\n",
        "import numpy as np\n",
        "import os\n",
        "import csv"
      ]
    },
    {
      "cell_type": "code",
      "source": [
        "daily_sales_numbers = [21, 22, -108, 31, -1, 32, 34, 31]"
      ],
      "metadata": {
        "id": "q2QT3fvCt3op"
      },
      "execution_count": 3,
      "outputs": []
    },
    {
      "cell_type": "code",
      "source": [
        "tf_dataset = tf.data.Dataset.from_tensor_slices(daily_sales_numbers)"
      ],
      "metadata": {
        "id": "_9AlSV7nt_5L"
      },
      "execution_count": 4,
      "outputs": []
    },
    {
      "cell_type": "code",
      "source": [
        "for sales in tf_dataset.as_numpy_iterator():\n",
        "  print(sales)"
      ],
      "metadata": {
        "colab": {
          "base_uri": "https://localhost:8080/"
        },
        "id": "qX5GElzHuEr5",
        "outputId": "fe31101b-4b0c-46f6-8c53-4acfc6e75440"
      },
      "execution_count": 5,
      "outputs": [
        {
          "output_type": "stream",
          "name": "stdout",
          "text": [
            "21\n",
            "22\n",
            "-108\n",
            "31\n",
            "-1\n",
            "32\n",
            "34\n",
            "31\n"
          ]
        }
      ]
    },
    {
      "cell_type": "code",
      "source": [
        "tf_dataset = tf_dataset.filter(lambda x: x>0)"
      ],
      "metadata": {
        "id": "rtCFPZ9wuJDM"
      },
      "execution_count": 6,
      "outputs": []
    },
    {
      "cell_type": "code",
      "source": [
        "for sales in tf_dataset.as_numpy_iterator():\n",
        "  print(sales)"
      ],
      "metadata": {
        "colab": {
          "base_uri": "https://localhost:8080/"
        },
        "id": "kk-va0qrvAdU",
        "outputId": "30d2706e-4444-4f87-9629-f9e5e8aab793"
      },
      "execution_count": 7,
      "outputs": [
        {
          "output_type": "stream",
          "name": "stdout",
          "text": [
            "21\n",
            "22\n",
            "31\n",
            "32\n",
            "34\n",
            "31\n"
          ]
        }
      ]
    },
    {
      "cell_type": "code",
      "source": [
        "for sales in tf_dataset.batch(2):\n",
        "  print(sales.numpy())"
      ],
      "metadata": {
        "colab": {
          "base_uri": "https://localhost:8080/"
        },
        "id": "M3ky44BIvCH2",
        "outputId": "110d10e5-65bf-4a22-a4fb-70dc4a5a58f5"
      },
      "execution_count": 8,
      "outputs": [
        {
          "output_type": "stream",
          "name": "stdout",
          "text": [
            "[21 22]\n",
            "[31 32]\n",
            "[34 31]\n"
          ]
        }
      ]
    },
    {
      "cell_type": "code",
      "source": [
        "# numpy_array = []\n",
        "# mnist_df = tf.data.Dataset.list_files(\"/content/sample_data/mnist_test.csv\", shuffle = False)\n",
        "# with open(\"/content/sample_data/mnist_test.csv\") as csv_file:\n",
        "#   reader = csv.reader(csv_file)\n",
        "\n",
        "#   #create array\n",
        "#   arr = []\n",
        "#   #append rows to array\n",
        "#   for i, row in enumerate(reader):\n",
        "#     arr.append(row)\n",
        "#   #convert array to numpy array\n",
        "#   numpy_array = np.array(arr)\n",
        "\n",
        "\n",
        "\n"
      ],
      "metadata": {
        "id": "-GWotARDveoP"
      },
      "execution_count": 13,
      "outputs": []
    },
    {
      "cell_type": "code",
      "source": [
        "### Plant Dataset Test\n",
        "\n",
        "bell_ds = tf.data.Dataset.list_files('/content/drive/MyDrive/Colab Notebooks/Bell-pepper ML/Bell_pepper/*/*')"
      ],
      "metadata": {
        "id": "0C6ynusdkeYv"
      },
      "execution_count": 21,
      "outputs": []
    },
    {
      "cell_type": "code",
      "source": [],
      "metadata": {
        "id": "l9AF8BHio58b"
      },
      "execution_count": null,
      "outputs": []
    },
    {
      "cell_type": "code",
      "source": [
        "for i in bell_ds.take(5):\n",
        "  print(i.numpy())"
      ],
      "metadata": {
        "colab": {
          "base_uri": "https://localhost:8080/"
        },
        "id": "SfgIq3zvpNZF",
        "outputId": "b6573bba-6185-4462-f97d-d9c9db307b62"
      },
      "execution_count": 25,
      "outputs": [
        {
          "output_type": "stream",
          "name": "stdout",
          "text": [
            "b'/content/drive/MyDrive/Colab Notebooks/Bell-pepper ML/Bell_pepper/Pepper__bell___Bacterial_spot/f3fe3173-1b59-404a-b986-133e847f2090___NREC_B.Spot 9054.JPG'\n",
            "b'/content/drive/MyDrive/Colab Notebooks/Bell-pepper ML/Bell_pepper/Pepper__bell___Bacterial_spot/94c2cf91-17c3-4ee1-b8f2-b20103e1c14f___NREC_B.Spot 9094.JPG'\n",
            "b'/content/drive/MyDrive/Colab Notebooks/Bell-pepper ML/Bell_pepper/Pepper__bell___Bacterial_spot/e80de14e-9d15-4dc6-b519-6d5af14ba216___JR_B.Spot 8835.JPG'\n",
            "b'/content/drive/MyDrive/Colab Notebooks/Bell-pepper ML/Bell_pepper/Pepper__bell___Bacterial_spot/3a03526d-0bf4-4898-9f0f-8a9c31afd3eb___JR_B.Spot 3380.JPG'\n",
            "b'/content/drive/MyDrive/Colab Notebooks/Bell-pepper ML/Bell_pepper/Pepper__bell___Bacterial_spot/5393f88f-ab0b-4b96-bc56-a76eeb106095___JR_B.Spot 8851.JPG'\n"
          ]
        }
      ]
    },
    {
      "cell_type": "code",
      "source": [
        "class_names = [\"healthy, deseased\"]"
      ],
      "metadata": {
        "id": "Xwm-3Uo7qi8j"
      },
      "execution_count": 26,
      "outputs": []
    },
    {
      "cell_type": "code",
      "source": [
        "image_count = len(bell_ds)\n",
        "image_count\n"
      ],
      "metadata": {
        "colab": {
          "base_uri": "https://localhost:8080/"
        },
        "id": "MmwrGlJIqr7u",
        "outputId": "855e8277-c304-4814-d390-38b5cd33d76a"
      },
      "execution_count": 29,
      "outputs": [
        {
          "output_type": "execute_result",
          "data": {
            "text/plain": [
              "452"
            ]
          },
          "metadata": {},
          "execution_count": 29
        }
      ]
    },
    {
      "cell_type": "code",
      "source": [
        "train_size = int(image_count*0.8)\n",
        "\n",
        "train_ds = bell_ds.take(train_size)\n",
        "test_ds = bell_ds.skip(train_size)"
      ],
      "metadata": {
        "id": "E5dpPggyyqSP"
      },
      "execution_count": 62,
      "outputs": []
    },
    {
      "cell_type": "code",
      "source": [
        "def get_label(file_path):\n",
        "  return tf.strings.split(file_path, os.path.sep)[-2]"
      ],
      "metadata": {
        "id": "wXdHoglVrYlN"
      },
      "execution_count": 50,
      "outputs": []
    },
    {
      "cell_type": "code",
      "source": [
        "def process_image(file_path):\n",
        "  label = get_label(file_path)\n",
        "\n",
        "  img = tf.io.read_file(file_path)\n",
        "  img = tf.image.decode_jpeg(img)\n",
        "  img = tf.image.resize(img, [128, 128])\n",
        "\n",
        "  return img, label\n",
        "\n",
        "print(process_image(\"/content/drive/MyDrive/Colab Notebooks/Bell-pepper ML/Bell_pepper/Pepper__bell___Bacterial_spot/0022d6b7-d47c-4ee2-ae9a-392a53f48647___JR_B.Spot 8964.JPG\")[0][0])"
      ],
      "metadata": {
        "colab": {
          "base_uri": "https://localhost:8080/"
        },
        "id": "rYhP0W66u8Cb",
        "outputId": "c662bae1-e6aa-4961-8716-f8f651885bff"
      },
      "execution_count": 60,
      "outputs": [
        {
          "output_type": "stream",
          "name": "stdout",
          "text": [
            "tf.Tensor(\n",
            "[[113.5  101.5  101.5 ]\n",
            " [120.   108.   108.  ]\n",
            " [131.25 119.25 119.25]\n",
            " [110.75  98.75  98.75]\n",
            " [122.   110.   110.  ]\n",
            " [116.5  104.5  104.5 ]\n",
            " [117.75 105.75 105.75]\n",
            " [137.   125.   125.  ]\n",
            " [124.5  112.5  112.5 ]\n",
            " [132.   120.   120.  ]\n",
            " [142.   130.   130.  ]\n",
            " [123.25 111.25 111.25]\n",
            " [134.25 122.25 122.25]\n",
            " [138.75 126.75 126.75]\n",
            " [130.5  118.5  118.5 ]\n",
            " [127.   115.   115.  ]\n",
            " [126.25 114.25 114.25]\n",
            " [135.25 123.25 123.25]\n",
            " [127.75 115.75 115.75]\n",
            " [117.25 105.25 105.25]\n",
            " [120.   108.   108.  ]\n",
            " [124.25 112.25 112.25]\n",
            " [118.   106.   106.  ]\n",
            " [123.75 111.75 111.75]\n",
            " [126.25 114.25 114.25]\n",
            " [127.25 115.25 115.25]\n",
            " [139.25 127.25 127.25]\n",
            " [130.75 118.75 118.75]\n",
            " [135.75 123.75 123.75]\n",
            " [139.75 127.75 127.75]\n",
            " [125.5  113.5  113.5 ]\n",
            " [130.25 118.25 118.25]\n",
            " [142.   130.   130.  ]\n",
            " [126.   114.   114.  ]\n",
            " [130.   118.   118.  ]\n",
            " [123.   111.   111.  ]\n",
            " [113.75 101.75 101.75]\n",
            " [123.75 111.75 111.75]\n",
            " [120.25 108.25 108.25]\n",
            " [111.5   99.5   99.5 ]\n",
            " [104.25  92.25  92.25]\n",
            " [116.5  104.5  104.5 ]\n",
            " [106.5   94.5   94.5 ]\n",
            " [100.75  88.75  88.75]\n",
            " [110.75  98.75  98.75]\n",
            " [ 91.5   79.5   79.5 ]\n",
            " [ 94.75  82.75  82.75]\n",
            " [ 89.    77.    77.  ]\n",
            " [ 82.5   71.5   75.5 ]\n",
            " [ 94.    83.    87.  ]\n",
            " [ 89.5   78.5   82.5 ]\n",
            " [ 86.25  75.25  79.25]\n",
            " [ 78.75  67.75  71.75]\n",
            " [ 79.25  68.25  72.25]\n",
            " [ 76.75  65.75  69.75]\n",
            " [ 75.75  65.25  67.75]\n",
            " [ 76.5   64.5   65.5 ]\n",
            " [ 72.75  60.75  60.75]\n",
            " [ 78.25  66.25  66.25]\n",
            " [ 79.    67.    67.  ]\n",
            " [ 71.5   59.5   59.5 ]\n",
            " [ 76.75  64.75  64.75]\n",
            " [ 75.75  63.75  63.75]\n",
            " [ 78.25  66.25  66.25]\n",
            " [ 80.    69.    67.  ]\n",
            " [ 78.5   67.5   65.5 ]\n",
            " [ 83.75  72.75  70.75]\n",
            " [ 79.75  68.75  66.75]\n",
            " [ 84.    73.    71.  ]\n",
            " [ 86.25  75.25  73.25]\n",
            " [ 87.5   76.5   74.5 ]\n",
            " [ 85.5   74.5   72.5 ]\n",
            " [ 97.75  83.75  83.75]\n",
            " [101.25  87.25  87.25]\n",
            " [105.    91.    91.  ]\n",
            " [104.5   88.5   88.5 ]\n",
            " [110.5   94.5   94.5 ]\n",
            " [112.    96.    96.  ]\n",
            " [121.75 103.75 101.75]\n",
            " [118.   101.5   98.5 ]\n",
            " [112.25 100.75  92.25]\n",
            " [114.25 103.25  99.75]\n",
            " [117.5  105.5  106.5 ]\n",
            " [129.75 114.75 120.75]\n",
            " [134.   119.25 122.  ]\n",
            " [135.5  120.25 120.  ]\n",
            " [127.25 112.75 104.75]\n",
            " [136.   123.25 109.25]\n",
            " [135.75 130.75 101.75]\n",
            " [115.5  111.5   84.  ]\n",
            " [107.   102.25  80.5 ]\n",
            " [130.25 124.75 108.25]\n",
            " [137.25 128.75 119.25]\n",
            " [141.5  129.75 126.  ]\n",
            " [149.75 133.75 133.75]\n",
            " [146.75 129.75 129.75]\n",
            " [153.   138.5  137.75]\n",
            " [161.25 147.25 146.25]\n",
            " [155.   141.   140.  ]\n",
            " [147.75 133.75 132.75]\n",
            " [151.   137.   136.  ]\n",
            " [155.5  141.5  140.5 ]\n",
            " [160.75 146.75 145.75]\n",
            " [160.25 146.25 145.25]\n",
            " [156.75 142.75 141.75]\n",
            " [155.   141.   140.  ]\n",
            " [166.   152.   151.  ]\n",
            " [147.25 133.25 132.25]\n",
            " [153.25 139.25 138.25]\n",
            " [158.25 144.25 143.25]\n",
            " [157.   143.   142.  ]\n",
            " [159.25 145.25 144.25]\n",
            " [160.5  146.5  145.5 ]\n",
            " [157.75 143.75 142.75]\n",
            " [160.   146.   145.  ]\n",
            " [158.25 144.25 143.25]\n",
            " [161.   147.   146.  ]\n",
            " [164.   150.   149.  ]\n",
            " [162.25 148.25 147.25]\n",
            " [161.75 147.75 146.75]\n",
            " [167.5  153.5  152.5 ]\n",
            " [168.75 154.75 153.75]\n",
            " [165.   151.   150.  ]\n",
            " [168.75 154.75 153.75]\n",
            " [159.75 145.75 144.75]\n",
            " [166.   152.   151.  ]\n",
            " [164.75 150.75 149.75]\n",
            " [168.   154.   153.  ]], shape=(128, 3), dtype=float32)\n"
          ]
        }
      ]
    },
    {
      "cell_type": "code",
      "source": [
        "train_ds = train_ds.map(process_image)\n",
        "\n",
        "for img, label in train_ds.take(1):\n",
        "  print(img[0][0])"
      ],
      "metadata": {
        "colab": {
          "base_uri": "https://localhost:8080/"
        },
        "id": "dUTm3h_Qr70h",
        "outputId": "7469b83e-4eee-48ca-8318-fa8d0542e1f6"
      },
      "execution_count": 67,
      "outputs": [
        {
          "output_type": "stream",
          "name": "stdout",
          "text": [
            "tf.Tensor([143. 132. 130.], shape=(3,), dtype=float32)\n"
          ]
        }
      ]
    },
    {
      "cell_type": "code",
      "source": [
        "def scale(image, label):\n",
        "  return image/255, label\n",
        "\n",
        "train_ds = train_ds.map(scale)\n",
        "\n",
        "for img, label in train_ds.take(1):\n",
        "   print(img[0][0])"
      ],
      "metadata": {
        "colab": {
          "base_uri": "https://localhost:8080/"
        },
        "id": "qrMCAII0rmcX",
        "outputId": "ef1019a2-af92-452c-da36-cb606816c235"
      },
      "execution_count": 68,
      "outputs": [
        {
          "output_type": "stream",
          "name": "stdout",
          "text": [
            "tf.Tensor([0.7970588  0.74215686 0.83235294], shape=(3,), dtype=float32)\n"
          ]
        }
      ]
    },
    {
      "cell_type": "code",
      "source": [
        "train_ds"
      ],
      "metadata": {
        "id": "olHvRLGfxCLG"
      },
      "execution_count": null,
      "outputs": []
    }
  ]
}